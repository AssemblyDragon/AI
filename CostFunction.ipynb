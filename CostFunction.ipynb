{
 "cells": [
  {
   "cell_type": "code",
   "execution_count": 2,
   "id": "35708649",
   "metadata": {},
   "outputs": [],
   "source": [
    "import numpy as np"
   ]
  },
  {
   "cell_type": "code",
   "execution_count": 3,
   "id": "0838c6f7",
   "metadata": {},
   "outputs": [],
   "source": [
    "x_train = np.array([1.0, 2.0])\n",
    "y_train = np.array([300.0, 500.0])"
   ]
  },
  {
   "cell_type": "code",
   "execution_count": 8,
   "id": "cc0f2d90",
   "metadata": {},
   "outputs": [
    {
     "name": "stdout",
     "output_type": "stream",
     "text": [
      "(2,)\n",
      "2\n",
      "Tuple out of index for m[1]\n"
     ]
    }
   ],
   "source": [
    "m = x_train.shape\n",
    "print(m)\n",
    "print(m[0])\n",
    "try:\n",
    "    print(m[1])\n",
    "except IndexError:\n",
    "    print(\"Tuple out of index for m[1]\")"
   ]
  },
  {
   "cell_type": "code",
   "execution_count": 15,
   "id": "2aa8d98a",
   "metadata": {},
   "outputs": [],
   "source": [
    "def compute_cost(x, y, w, b):\n",
    "    m = x.shape[0]\n",
    "    cost = 0\n",
    "    for i in range(m):\n",
    "        f_wb = w * x[i] + b\n",
    "        cost += (f_wb - y[i]) ** 2\n",
    "    cost = (1/(2*m))*cost\n",
    "    return cost"
   ]
  },
  {
   "cell_type": "code",
   "execution_count": 16,
   "id": "5a0e6998",
   "metadata": {},
   "outputs": [
    {
     "name": "stdout",
     "output_type": "stream",
     "text": [
      "12500.0\n",
      "5000.0\n",
      "20000.0\n",
      "2500.0\n",
      "0.0\n"
     ]
    }
   ],
   "source": [
    "print(compute_cost(x_train, y_train, 100, 100))\n",
    "print(compute_cost(x_train, y_train, 200, 200))\n",
    "print(compute_cost(x_train, y_train, 200, 300))\n",
    "print(compute_cost(x_train, y_train, 100, 300))\n",
    "print(compute_cost(x_train, y_train, 200, 100))"
   ]
  },
  {
   "cell_type": "code",
   "execution_count": null,
   "id": "db974523",
   "metadata": {},
   "outputs": [],
   "source": []
  }
 ],
 "metadata": {
  "kernelspec": {
   "display_name": "Python 3 (ipykernel)",
   "language": "python",
   "name": "python3"
  },
  "language_info": {
   "codemirror_mode": {
    "name": "ipython",
    "version": 3
   },
   "file_extension": ".py",
   "mimetype": "text/x-python",
   "name": "python",
   "nbconvert_exporter": "python",
   "pygments_lexer": "ipython3",
   "version": "3.9.4"
  }
 },
 "nbformat": 4,
 "nbformat_minor": 5
}
