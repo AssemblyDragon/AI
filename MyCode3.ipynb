{
 "cells": [
  {
   "cell_type": "markdown",
   "id": "d0b52dcf",
   "metadata": {},
   "source": [
    "# Linear Regression (Implementing Gradient Descent)"
   ]
  },
  {
   "cell_type": "markdown",
   "id": "92a78fa3",
   "metadata": {},
   "source": [
    "### Importing the Libraries\n",
    "1. Numpy\n",
    "2. Matplotlib"
   ]
  },
  {
   "cell_type": "code",
   "execution_count": 1,
   "id": "24ce4f79",
   "metadata": {},
   "outputs": [],
   "source": [
    "import numpy as np\n",
    "import matplotlib.pyplot as plt"
   ]
  },
  {
   "cell_type": "markdown",
   "id": "1f85cec1",
   "metadata": {},
   "source": [
    "### Loading the dataset\n",
    "1. Training Features\n",
    "2. Training Target Values"
   ]
  },
  {
   "cell_type": "code",
   "execution_count": 2,
   "id": "6f7fbc39",
   "metadata": {},
   "outputs": [],
   "source": [
    "# Loading the dataset\n",
    "x_train = np.array([1.0, 2.0])  # Features\n",
    "y_train = np.array([300.0, 500.0])  # Target"
   ]
  },
  {
   "cell_type": "markdown",
   "id": "0bafb352",
   "metadata": {},
   "source": [
    " "
   ]
  },
  {
   "cell_type": "markdown",
   "id": "fb2c48d9",
   "metadata": {},
   "source": [
    "Dataset:-\n",
    "\n",
    "| Size (1000 sqft) | Price (1000s of dollors) |\n",
    "| ---------------- | ------------------------ |\n",
    "| 1                | 300                      |\n",
    "| 2                | 500                      |"
   ]
  },
  {
   "cell_type": "markdown",
   "id": "96f665ca",
   "metadata": {},
   "source": [
    "### Implementing the cost function\n",
    "cost = 1/2m {summition i=0 to m-1 (f_wb - y[i])^2)}"
   ]
  },
  {
   "cell_type": "code",
   "execution_count": 3,
   "id": "f7c98fcb",
   "metadata": {},
   "outputs": [],
   "source": [
    "def compute_cost(x, y, w, b):\n",
    "    \n",
    "    m = x.shape[0]\n",
    "    cost = 0\n",
    "    \n",
    "    for i in range(m):\n",
    "        f_wb = x[i] * w + b\n",
    "        cost += (f_wb - y[i])**2\n",
    "    cost = cost/2*m\n",
    "    \n",
    "    return cost"
   ]
  },
  {
   "cell_type": "markdown",
   "id": "9487c0e9",
   "metadata": {},
   "source": [
    "### Computing Gradient\n",
    "computing partial derivation of cost function first with respect to w and then with respect to b indiviually"
   ]
  },
  {
   "cell_type": "code",
   "execution_count": 5,
   "id": "7566eb23",
   "metadata": {},
   "outputs": [],
   "source": [
    "def compute_gradient(x, y, w, b):\n",
    "    \n",
    "    m = x.shape[0]\n",
    "    dj_dw = 0\n",
    "    dj_db = 0\n",
    "    \n",
    "    for i in range(m):\n",
    "        f_wb = x[i] * w + b\n",
    "        dj_dw += (f_wb - y[i]) * x[i]\n",
    "        dj_db += (f_wb - y[i])\n",
    "    \n",
    "    dj_dw = dj_dw/m\n",
    "    dj_db = dj_db/m\n",
    "    \n",
    "    return dj_dw, dj_db"
   ]
  },
  {
   "cell_type": "code",
   "execution_count": null,
   "id": "88a872ff",
   "metadata": {},
   "outputs": [],
   "source": []
  }
 ],
 "metadata": {
  "kernelspec": {
   "display_name": "Python 3 (ipykernel)",
   "language": "python",
   "name": "python3"
  },
  "language_info": {
   "codemirror_mode": {
    "name": "ipython",
    "version": 3
   },
   "file_extension": ".py",
   "mimetype": "text/x-python",
   "name": "python",
   "nbconvert_exporter": "python",
   "pygments_lexer": "ipython3",
   "version": "3.9.4"
  }
 },
 "nbformat": 4,
 "nbformat_minor": 5
}
